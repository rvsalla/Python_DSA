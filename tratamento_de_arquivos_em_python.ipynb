{
  "nbformat": 4,
  "nbformat_minor": 0,
  "metadata": {
    "colab": {
      "provenance": [],
      "authorship_tag": "ABX9TyMLhn22bFDDPdxYumlk4/Wu",
      "include_colab_link": true
    },
    "kernelspec": {
      "name": "python3",
      "display_name": "Python 3"
    },
    "language_info": {
      "name": "python"
    }
  },
  "cells": [
    {
      "cell_type": "markdown",
      "metadata": {
        "id": "view-in-github",
        "colab_type": "text"
      },
      "source": [
        "<a href=\"https://colab.research.google.com/github/rvsalla/Python_DSA/blob/main/tratamento_de_arquivos_em_python.ipynb\" target=\"_parent\"><img src=\"https://colab.research.google.com/assets/colab-badge.svg\" alt=\"Open In Colab\"/></a>"
      ]
    },
    {
      "cell_type": "code",
      "execution_count": null,
      "metadata": {
        "colab": {
          "base_uri": "https://localhost:8080/"
        },
        "id": "Rd2rYWHQeB7x",
        "outputId": "67384387-9ff1-41b4-e9e4-641bc4050674"
      },
      "outputs": [
        {
          "output_type": "stream",
          "name": "stdout",
          "text": [
            "Python 3.10.12\n"
          ]
        }
      ],
      "source": [
        "!python --version"
      ]
    },
    {
      "cell_type": "code",
      "source": [
        "texto = \"um texto simples\"\n",
        "print(texto)\n",
        "texto += \", vendo como funciona\"\n",
        "print(texto)"
      ],
      "metadata": {
        "colab": {
          "base_uri": "https://localhost:8080/"
        },
        "id": "vdJfRVrJeuh1",
        "outputId": "77ed25c7-457b-47f2-a908-6c91574c96af"
      },
      "execution_count": null,
      "outputs": [
        {
          "output_type": "stream",
          "name": "stdout",
          "text": [
            "um texto simples\n",
            "um texto simples, vendo como funciona\n"
          ]
        }
      ]
    },
    {
      "cell_type": "code",
      "source": [
        "import os"
      ],
      "metadata": {
        "id": "cf73AQQUesSh"
      },
      "execution_count": null,
      "outputs": []
    },
    {
      "cell_type": "code",
      "source": [
        "arquivo = open(os.path.join('./teste.csv'),'w')"
      ],
      "metadata": {
        "id": "8EqJYVrlfHcw"
      },
      "execution_count": null,
      "outputs": []
    },
    {
      "cell_type": "code",
      "source": [
        "for palavra in texto.split():\n",
        "  arquivo.write(palavra + ' ')"
      ],
      "metadata": {
        "id": "-jPRtDuKfbra"
      },
      "execution_count": null,
      "outputs": []
    },
    {
      "cell_type": "code",
      "source": [
        "arquivo.close()"
      ],
      "metadata": {
        "id": "5jGInRIEfy1I"
      },
      "execution_count": null,
      "outputs": []
    },
    {
      "cell_type": "code",
      "source": [
        "arquivo = open('./teste.csv', 'r')\n",
        "counteudo = arquivo.read()\n",
        "arquivo.close()\n",
        "\n",
        "print(counteudo)"
      ],
      "metadata": {
        "colab": {
          "base_uri": "https://localhost:8080/"
        },
        "id": "13NFn2wKf7e3",
        "outputId": "ebc7534e-0a35-483d-a520-e60df102cccc"
      },
      "execution_count": null,
      "outputs": [
        {
          "output_type": "stream",
          "name": "stdout",
          "text": [
            "um texto simples, vendo como funciona \n"
          ]
        }
      ]
    }
  ]
}